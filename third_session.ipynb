{
 "cells": [
  {
   "cell_type": "markdown",
   "id": "aff20a52",
   "metadata": {},
   "source": [
    "### Creating variable names to call functions. \n",
    "### The Print keyword \n",
    "\n"
   ]
  },
  {
   "cell_type": "markdown",
   "id": "3bcc2794",
   "metadata": {},
   "source": [
    "# Functions \n",
    "### To create a function, bring a keyword, def. def is define\n",
    "### Then bring a bracket in front of the function. \n",
    "\n"
   ]
  },
  {
   "cell_type": "code",
   "execution_count": 1,
   "id": "0c9ce7a3",
   "metadata": {},
   "outputs": [
    {
     "name": "stdout",
     "output_type": "stream",
     "text": [
      "Hello world\n"
     ]
    }
   ],
   "source": [
    "## Greeting. Function to just say \"hello\". a function performs a particular task. \n",
    "\n",
    "def Greeting(): \n",
    "    print(\"Hello world\") \n",
    "    \n",
    "Greeting()"
   ]
  },
  {
   "cell_type": "code",
   "execution_count": 3,
   "id": "bc4a5b5a",
   "metadata": {},
   "outputs": [
    {
     "name": "stdout",
     "output_type": "stream",
     "text": [
      "Hello World\n"
     ]
    }
   ],
   "source": [
    "# Below is just creating a variable for x\n",
    "\n",
    "x = \"Hello World\"\n",
    "print (x)"
   ]
  },
  {
   "cell_type": "code",
   "execution_count": 9,
   "id": "9e44b09d",
   "metadata": {},
   "outputs": [
    {
     "data": {
      "text/plain": [
       "3.0"
      ]
     },
     "execution_count": 9,
     "metadata": {},
     "output_type": "execute_result"
    }
   ],
   "source": [
    "# define a function to calcualte the area of a recatngle \n",
    "\n",
    "def Area_of_a_Rectangle(b,h):\n",
    "    calculate_area = 1/2*b*h \n",
    "    return calculate_area\n",
    "    \n",
    "Area_of_a_Rectangle(2,3)"
   ]
  },
  {
   "cell_type": "code",
   "execution_count": 8,
   "id": "b4d0e709",
   "metadata": {},
   "outputs": [],
   "source": [
    "def Area_of_a_Rectangle(b,h):\n",
    "    calculate_area = 1/2*b*h \n",
    "    #return calculate_area\n",
    "    \n",
    "Area_of_a_Rectangle(2,3)"
   ]
  },
  {
   "cell_type": "code",
   "execution_count": 14,
   "id": "a0a60fd6",
   "metadata": {},
   "outputs": [
    {
     "data": {
      "text/plain": [
       "78.55"
      ]
     },
     "execution_count": 14,
     "metadata": {},
     "output_type": "execute_result"
    }
   ],
   "source": [
    "def Area_of_a_Circle(r): \n",
    "    calculate_area = 3.142*(r**2)\n",
    "    return calculate_area \n",
    "\n",
    "Area_of_a_Circle(5)\n"
   ]
  },
  {
   "cell_type": "code",
   "execution_count": 16,
   "id": "d2f1fda4",
   "metadata": {},
   "outputs": [
    {
     "data": {
      "text/plain": [
       "25.136"
      ]
     },
     "execution_count": 16,
     "metadata": {},
     "output_type": "execute_result"
    }
   ],
   "source": [
    "# Calculate the perimeter of a circle \n",
    "\n",
    "def Perimeter_of_a_Circle(r):\n",
    "    calculate_perimeter= 2*3.142*r\n",
    "    return calculate_perimeter\n",
    "\n",
    "Perimeter_of_a_Circle(4)"
   ]
  },
  {
   "cell_type": "code",
   "execution_count": null,
   "id": "2379e5aa",
   "metadata": {},
   "outputs": [],
   "source": [
    "# Calculate the area of a sphere \n",
    "\n",
    "def Area_of_a_Sphere(r):\n",
    "    calculate_area = "
   ]
  },
  {
   "cell_type": "markdown",
   "id": "a7aeb0f4",
   "metadata": {},
   "source": [
    "## CLASSES\n",
    "## Python Classes/Objects\n",
    "Python is an object oriented programming language.\n",
    "\n",
    "Almost everything in Python is an object, with its properties and methods.\n",
    "\n",
    "A Class is like an object constructor, or a \"blueprint\" for creating objects.\n",
    "\n",
    "\n",
    "All classes have a function called __init__(), which is always executed when the class is being initiated.\n",
    "\n",
    "### A class is a blueprint for declaring and creating objects. An object is a class instance that allows programmers to use variables and methods from inside the class. Memory is not allocated to classes. "
   ]
  },
  {
   "cell_type": "markdown",
   "id": "594d5628",
   "metadata": {},
   "source": [
    "### Create a Class\n",
    "To create a class, use the keyword class:"
   ]
  },
  {
   "cell_type": "code",
   "execution_count": 72,
   "id": "356c8ddb",
   "metadata": {},
   "outputs": [],
   "source": [
    "#Create a class named MyClass, with a property named x:\n",
    "\n",
    "class MyClass:\n",
    "  x = 5"
   ]
  },
  {
   "cell_type": "markdown",
   "id": "871449e9",
   "metadata": {},
   "source": [
    "### Create Object\n",
    "Now we can use the class named MyClass to create objects:"
   ]
  },
  {
   "cell_type": "code",
   "execution_count": 73,
   "id": "a1cb7a6d",
   "metadata": {},
   "outputs": [
    {
     "name": "stdout",
     "output_type": "stream",
     "text": [
      "5\n"
     ]
    }
   ],
   "source": [
    "#Example\n",
    "#Create an object named p1, and print the value of x:\n",
    "\n",
    "p1 = MyClass()\n",
    "print(p1.x)"
   ]
  },
  {
   "cell_type": "markdown",
   "id": "c5c941a6",
   "metadata": {},
   "source": [
    "## The __init__() Function\n",
    "The examples above are classes and objects in their simplest form, and are not really useful in real life applications.\n",
    "\n",
    "To understand the meaning of classes we have to understand the built-in __init__() function.\n",
    "\n",
    "All classes have a function called __init__(), which is always executed when the class is being initiated.\n",
    "\n",
    "Use the __init__() function to assign values to object properties, or other operations that are necessary to do when the object is being created:"
   ]
  },
  {
   "cell_type": "code",
   "execution_count": 1,
   "id": "55dcaa8f",
   "metadata": {},
   "outputs": [
    {
     "name": "stdout",
     "output_type": "stream",
     "text": [
      "John\n",
      "36\n"
     ]
    }
   ],
   "source": [
    "#Example\n",
    "#Create a class named Person, use the __init__() function to assign values for name and age:\n",
    "\n",
    "class Person:\n",
    "  def __init__(self, name, age):\n",
    "    self.name = name\n",
    "    self.age = age\n",
    "\n",
    "p1 = Person(\"John\", 36)\n",
    "\n",
    "print(p1.name)\n",
    "print(p1.age)\n",
    "\n",
    "#Note: The __init__() function is called automatically every time the class is being used to create a new object"
   ]
  },
  {
   "cell_type": "markdown",
   "id": "ac8ad3d1",
   "metadata": {},
   "source": [
    "## The __str__() Function\n",
    "The __str__() function controls what should be returned when the class object is represented as a string.\n",
    "\n",
    "If the __str__() function is not set, the string representation of the object is returned:"
   ]
  },
  {
   "cell_type": "code",
   "execution_count": 53,
   "id": "664bbf7e",
   "metadata": {},
   "outputs": [
    {
     "name": "stdout",
     "output_type": "stream",
     "text": [
      "<__main__.Person object at 0x000002313C427F70>\n"
     ]
    }
   ],
   "source": [
    "#Example\n",
    "#The string representation of an object WITHOUT the __str__() function:\n",
    "\n",
    "class Person:\n",
    "  def __init__(self, name, age):\n",
    "    self.name = name\n",
    "    self.age = age\n",
    "\n",
    "p1 = Person(\"John\", 36)\n",
    "\n",
    "print(p1)"
   ]
  },
  {
   "cell_type": "code",
   "execution_count": 54,
   "id": "36ee87c3",
   "metadata": {},
   "outputs": [
    {
     "name": "stdout",
     "output_type": "stream",
     "text": [
      "John(36)\n"
     ]
    }
   ],
   "source": [
    "#Example\n",
    "#The string representation of an object WITH the __str__() function:\n",
    "\n",
    "class Person:\n",
    "  def __init__(self, name, age):\n",
    "    self.name = name\n",
    "    self.age = age\n",
    "\n",
    "  def __str__(self):\n",
    "    return f\"{self.name}({self.age})\"\n",
    "\n",
    "p1 = Person(\"John\", 36)\n",
    "\n",
    "print(p1)"
   ]
  },
  {
   "cell_type": "markdown",
   "id": "4e79e1a5",
   "metadata": {},
   "source": [
    "## Object Methods\n",
    "Objects can also contain methods. Methods in objects are functions that belong to the object.\n",
    "\n",
    "Let us create a method in the Person class:"
   ]
  },
  {
   "cell_type": "code",
   "execution_count": 55,
   "id": "12e694f7",
   "metadata": {},
   "outputs": [
    {
     "name": "stdout",
     "output_type": "stream",
     "text": [
      "Hello my name is John\n"
     ]
    }
   ],
   "source": [
    "#Example\n",
    "#Insert a function that prints a greeting, and execute it on the p1 object:\n",
    "\n",
    "class Person:\n",
    "  def __init__(self, name, age):\n",
    "    self.name = name\n",
    "    self.age = age\n",
    "\n",
    "  def myfunc(self):\n",
    "    print(\"Hello my name is \" + self.name)\n",
    "\n",
    "p1 = Person(\"John\", 36)\n",
    "p1.myfunc()"
   ]
  },
  {
   "cell_type": "markdown",
   "id": "3b8c5129",
   "metadata": {},
   "source": [
    "Note: The self parameter is a reference to the current instance of the class, and is used to access variables that belong to the class.\n",
    "\n",
    "## The self Parameter\n",
    "The self parameter is a reference to the current instance of the class, and is used to access variables that belongs to the class.\n",
    "\n",
    "It does not have to be named self , you can call it whatever you like, but it has to be the first parameter of any function in the class:"
   ]
  },
  {
   "cell_type": "code",
   "execution_count": 56,
   "id": "c7bbebf5",
   "metadata": {},
   "outputs": [
    {
     "name": "stdout",
     "output_type": "stream",
     "text": [
      "Hello my name is John\n"
     ]
    }
   ],
   "source": [
    "#Example\n",
    "#Use the words mysillyobject and abc instead of self:\n",
    "\n",
    "class Person:\n",
    "  def __init__(mysillyobject, name, age):\n",
    "    mysillyobject.name = name\n",
    "    mysillyobject.age = age\n",
    "\n",
    "  def myfunc(abc):\n",
    "    print(\"Hello my name is \" + abc.name)\n",
    "\n",
    "p1 = Person(\"John\", 36)\n",
    "p1.myfunc()"
   ]
  },
  {
   "cell_type": "markdown",
   "id": "147f056c",
   "metadata": {},
   "source": [
    "### Delete Object Properties\n",
    "You can delete properties on objects by using the del keyword:\n",
    "\n"
   ]
  },
  {
   "cell_type": "code",
   "execution_count": 59,
   "id": "182b7903",
   "metadata": {},
   "outputs": [
    {
     "ename": "AttributeError",
     "evalue": "age",
     "output_type": "error",
     "traceback": [
      "\u001b[1;31m---------------------------------------------------------------------------\u001b[0m",
      "\u001b[1;31mAttributeError\u001b[0m                            Traceback (most recent call last)",
      "Cell \u001b[1;32mIn[59], line 4\u001b[0m\n\u001b[0;32m      1\u001b[0m \u001b[38;5;66;03m#Example\u001b[39;00m\n\u001b[0;32m      2\u001b[0m \u001b[38;5;66;03m#Delete the age property from the p1 object:\u001b[39;00m\n\u001b[1;32m----> 4\u001b[0m \u001b[38;5;28;01mdel\u001b[39;00m p1\u001b[38;5;241m.\u001b[39mage\n",
      "\u001b[1;31mAttributeError\u001b[0m: age"
     ]
    }
   ],
   "source": [
    "#Example\n",
    "#Delete the age property from the p1 object:\n",
    "\n",
    "del p1.age"
   ]
  },
  {
   "cell_type": "markdown",
   "id": "459fb6d4",
   "metadata": {},
   "source": [
    "### Delete Objects\n",
    "You can delete objects by using the del keyword:"
   ]
  },
  {
   "cell_type": "code",
   "execution_count": 60,
   "id": "0e6a4646",
   "metadata": {},
   "outputs": [],
   "source": [
    "#Example\n",
    "#Delete the p1 object:\n",
    "\n",
    "del p1"
   ]
  },
  {
   "cell_type": "markdown",
   "id": "274c9143",
   "metadata": {},
   "source": [
    "### The pass Statement\n",
    "class definitions cannot be empty, but if you for some reason have a class definition with no content, put in the pass statement to avoid getting an error.\n",
    "\n"
   ]
  },
  {
   "cell_type": "code",
   "execution_count": 120,
   "id": "b1df62be",
   "metadata": {},
   "outputs": [],
   "source": [
    "#Example\n",
    "class Person:\n",
    "  pass"
   ]
  },
  {
   "cell_type": "markdown",
   "id": "a187f211",
   "metadata": {},
   "source": [
    "### Modify Object Properties\n",
    "You can modify properties on objects like this:"
   ]
  },
  {
   "cell_type": "code",
   "execution_count": 57,
   "id": "fa818bb0",
   "metadata": {},
   "outputs": [],
   "source": [
    "#Example\n",
    "#Set the age of p1 to 40:\n",
    "\n",
    "p1.age = 40"
   ]
  },
  {
   "cell_type": "markdown",
   "id": "2f4e7ab7",
   "metadata": {},
   "source": [
    "## TUTORIAL"
   ]
  },
  {
   "cell_type": "code",
   "execution_count": 75,
   "id": "67192df7",
   "metadata": {},
   "outputs": [],
   "source": [
    "# Tutorial\n",
    "\n",
    "# To create a class, bring the keyword, class. \n",
    "# init means initial\n",
    "\n",
    "class Humanbeing:\n",
    "    def __init__(self,name,age,profession,email,food):\n",
    "        self.name = name\n",
    "        self.age = age\n",
    "        self.profession = profession\n",
    "        self.email = email\n",
    "        self.food = food\n",
    "    \n",
    "    def greetings(self):\n",
    "        print(\"Good evening Mrs. \" + self.name)\n",
    "    \n",
    "    def eating(self):\n",
    "        print(\"I like eating \" + self.food)"
   ]
  },
  {
   "cell_type": "code",
   "execution_count": 69,
   "id": "299a7ead",
   "metadata": {},
   "outputs": [
    {
     "name": "stdout",
     "output_type": "stream",
     "text": [
      "I like eating fufu\n",
      "Good evening Mrs. Blessing Ajayi\n"
     ]
    }
   ],
   "source": [
    "blessing = Humanbeing(\"Blessing Ajayi\",100,\"Professor\",\"blessingajayi@gmail.com\",\"fufu\")\n",
    "blessing.eating()\n",
    "blessing.greetings()"
   ]
  },
  {
   "cell_type": "markdown",
   "id": "ee9e7581",
   "metadata": {},
   "source": [
    "### Implement a class that takes someone name,email,dateofbirth,profession,hobby and outputs it with functions like:your email is....."
   ]
  },
  {
   "cell_type": "code",
   "execution_count": 78,
   "id": "41372e14",
   "metadata": {},
   "outputs": [],
   "source": [
    "# Tutorial\n",
    "\n",
    "class Person:\n",
    "    def __init__(about, name, email, dob, profession, hobby):\n",
    "        about.name = name\n",
    "        about.email = email\n",
    "        about.dob = dob \n",
    "        about.profession = profession\n",
    "        about.hobby = hobby\n",
    "    \n",
    "    def details(about):\n",
    "        print(\"Kindly give me the details of \" + about.name)\n",
    "        \n",
    "    def sending(about):\n",
    "        print(\"Is this her email, \" + about.email)\n",
    "        \n",
    "    def sending2(about):\n",
    "        print(\"Please, confirm her date of birth, \" + about.dob)\n",
    "        \n",
    "    "
   ]
  },
  {
   "cell_type": "code",
   "execution_count": 79,
   "id": "0bb8a800",
   "metadata": {},
   "outputs": [
    {
     "name": "stdout",
     "output_type": "stream",
     "text": [
      "Kindly give me the details of Blessing Ajayi\n",
      "Is this her email, blessing@gmail.com\n",
      "Please, confirm her date of birth, 7th November 1940\n"
     ]
    }
   ],
   "source": [
    "blessing = Person(\"Blessing Ajayi\", \"blessing@gmail.com\", \"7th November 1940\", \"Engineer\", \"Singing\")\n",
    "blessing.details()\n",
    "blessing.sending()\n",
    "blessing.sending2()"
   ]
  },
  {
   "cell_type": "code",
   "execution_count": 88,
   "id": "6b00a37c",
   "metadata": {},
   "outputs": [
    {
     "name": "stdout",
     "output_type": "stream",
     "text": [
      "Blessing Ajayi\n",
      "blessing@gmail.com\n",
      "7th November 1940\n",
      "Engineer\n",
      "Singing\n"
     ]
    }
   ],
   "source": [
    "class Person:\n",
    "    def __init__(about, name, email, dob, profession, hobby):\n",
    "        about.name = name\n",
    "        about.email = email\n",
    "        about.dob = dob \n",
    "        about.profession = profession\n",
    "        about.hobby = hobby\n",
    "    \n",
    "    p2 = Person(\"Blessing Ajayi\", \"blessing@gmail.com\", \"7th November 1940\", \"Engineer\", \"Singing\")\n",
    "    \n",
    "    print(p2.name)\n",
    "    print(p2.email)\n",
    "    print(p2.dob)\n",
    "    print(p2.profession)\n",
    "    print(p2.hobby)"
   ]
  },
  {
   "cell_type": "code",
   "execution_count": 119,
   "id": "7acc3399",
   "metadata": {},
   "outputs": [
    {
     "name": "stdout",
     "output_type": "stream",
     "text": [
      "My name is  Blessing Ajayi.\n",
      "Here is my email,  blessing@gmail.com.\n",
      "7th November 1940 is my date of birth.\n",
      "I am an Engineer. What about you? Good to know you are an  Engineer too.\n",
      "Do you know that Singing  is my hobby? \n",
      "In a nutshell, these are my details:  Blessing Ajayi, blessing@gmail.com, 7th November 1940, Engineer, Singing.\n"
     ]
    }
   ],
   "source": [
    "class Person:\n",
    "    def __init__(about, name, email, dob, profession, hobby):\n",
    "        about.name = name\n",
    "        about.email = email\n",
    "        about.dob = dob \n",
    "        about.profession = profession\n",
    "        about.hobby = hobby\n",
    "\n",
    "p2 = Person(\"Blessing Ajayi\", \"blessing@gmail.com\", \"7th November 1940\", \"Engineer\", \"Singing\")\n",
    "    \n",
    "print(\"My name is \" , p2.name+\".\")\n",
    "print(\"Here is my email, \" , p2.email+\".\")\n",
    "print(p2.dob + \" is my date of birth.\")\n",
    "print(\"I am an \" + p2.profession + \". What about you?\" \" Good to know you are an \" , p2.profession, \"too.\")\n",
    "print(\"Do you know that\" , p2.hobby , \" is my hobby? \")\n",
    "print(\"In a nutshell, these are my details: \" , p2.name+\",\", p2.email+\",\", p2.dob+\",\", p2.profession+\",\", p2.hobby+\".\")"
   ]
  },
  {
   "cell_type": "code",
   "execution_count": 32,
   "id": "4cbd4d52",
   "metadata": {},
   "outputs": [
    {
     "name": "stdout",
     "output_type": "stream",
     "text": [
      "John\n",
      "36\n"
     ]
    }
   ],
   "source": [
    "#Note: The __init__() function is called automatically every time the class is being used to create a new object.\n",
    "\n",
    "class Person:\n",
    "  def __init__(self, name, age):\n",
    "    self.name = name\n",
    "    self.age = age\n",
    "\n",
    "p1 = Person(\"John\", 36)\n",
    "\n",
    "print(p1.name)\n",
    "print(p1.age)\n"
   ]
  },
  {
   "cell_type": "code",
   "execution_count": 34,
   "id": "4d744670",
   "metadata": {},
   "outputs": [
    {
     "name": "stdout",
     "output_type": "stream",
     "text": [
      "John\n",
      "36\n"
     ]
    }
   ],
   "source": [
    "#trying something different\n",
    "class Person:\n",
    "  def __init__(self, name, age):\n",
    "    \n",
    "\n",
    "    p1 = Person(\"John\", 36)\n",
    "\n",
    "print(p1.name)\n",
    "print(p1.age)"
   ]
  },
  {
   "cell_type": "markdown",
   "id": "11cc609c",
   "metadata": {},
   "source": [
    "### The __str__() Function\n",
    "The __str__() function controls what should be returned when the class object is represented as a string.\n",
    "\n",
    "If the __str__() function is not set, the string representation of the object is returned:"
   ]
  },
  {
   "cell_type": "code",
   "execution_count": 35,
   "id": "cd9dc183",
   "metadata": {},
   "outputs": [
    {
     "name": "stdout",
     "output_type": "stream",
     "text": [
      "<__main__.Person object at 0x000002313C437250>\n"
     ]
    }
   ],
   "source": []
  },
  {
   "cell_type": "code",
   "execution_count": 36,
   "id": "8295f481",
   "metadata": {},
   "outputs": [
    {
     "name": "stdout",
     "output_type": "stream",
     "text": [
      "John(36)\n"
     ]
    }
   ],
   "source": [
    "class Person:\n",
    "  def __init__(self, name, age):\n",
    "    self.name = name\n",
    "    self.age = age\n",
    "\n",
    "  def __str__(self):\n",
    "    return f\"{self.name}({self.age})\"\n",
    "\n",
    "p1 = Person(\"John\", 36)\n",
    "\n",
    "print(p1)"
   ]
  },
  {
   "cell_type": "markdown",
   "id": "2b259674",
   "metadata": {},
   "source": [
    "### Object Methods\n",
    "Objects can also contain methods. Methods in objects are functions that belong to the object.\n",
    "\n",
    "Let us create a method in the Person class:"
   ]
  },
  {
   "cell_type": "code",
   "execution_count": 37,
   "id": "110fa0c6",
   "metadata": {},
   "outputs": [
    {
     "name": "stdout",
     "output_type": "stream",
     "text": [
      "Hello my name is John\n"
     ]
    }
   ],
   "source": [
    "class Person:\n",
    "  def __init__(self, name, age):\n",
    "    self.name = name\n",
    "    self.age = age\n",
    "\n",
    "  def myfunc(self):\n",
    "    print(\"Hello my name is \" + self.name)\n",
    "\n",
    "p1 = Person(\"John\", 36)\n",
    "p1.myfunc()"
   ]
  },
  {
   "cell_type": "markdown",
   "id": "e6072432",
   "metadata": {},
   "source": [
    "### The self Parameter\n",
    "The self parameter is a reference to the current instance of the class, and is used to access variables that belongs to the class.\n",
    "\n",
    "It does not have to be named self , you can call it whatever you like, but it has to be the first parameter of any function in the class:"
   ]
  },
  {
   "cell_type": "code",
   "execution_count": 44,
   "id": "aa38bf68",
   "metadata": {},
   "outputs": [
    {
     "name": "stdout",
     "output_type": "stream",
     "text": [
      "Hello my name is John\n"
     ]
    }
   ],
   "source": [
    "#Example\n",
    "#Use the words mysillyobject and abc instead of self:\n",
    "\n",
    "class Person:\n",
    "  def __init__(mysillyobject, name, age):\n",
    "    mysillyobject.name = name\n",
    "    mysillyobject.age = age\n",
    "\n",
    "  def myfunc(abc):\n",
    "    print(\"Hello my name is \" + abc.name)\n",
    "\n",
    "p1 = Person(\"John\", 36)\n",
    "p1.myfunc()"
   ]
  },
  {
   "cell_type": "code",
   "execution_count": 45,
   "id": "c964d34b",
   "metadata": {},
   "outputs": [
    {
     "name": "stdout",
     "output_type": "stream",
     "text": [
      "Hello my name is John\n"
     ]
    }
   ],
   "source": [
    "class Person:\n",
    "  def __init__(abc, name, age):\n",
    "    abc.name = name\n",
    "    abc.age = age\n",
    "\n",
    "  def myfunc(abc):\n",
    "    print(\"Hello my name is \" + abc.name)\n",
    "\n",
    "p1 = Person(\"John\", 36)\n",
    "p1.myfunc()"
   ]
  },
  {
   "cell_type": "markdown",
   "id": "8b17be79",
   "metadata": {},
   "source": [
    "### Modify Object Properties\n",
    "You can modify properties on objects like this:"
   ]
  },
  {
   "cell_type": "code",
   "execution_count": 47,
   "id": "baca1cbd",
   "metadata": {},
   "outputs": [
    {
     "name": "stdout",
     "output_type": "stream",
     "text": [
      "40\n"
     ]
    }
   ],
   "source": [
    "#Example\n",
    "#Set the age of p1 to 40:\n",
    "\n",
    "class Person:\n",
    "  def __init__(self, name, age):\n",
    "    self.name = name\n",
    "    self.age = age\n",
    "\n",
    "  def myfunc(self):\n",
    "    print(\"Hello my name is \" + self.name)\n",
    "\n",
    "p1 = Person(\"John\", 36)\n",
    "\n",
    "p1.age = 40\n",
    "\n",
    "print(p1.age)"
   ]
  },
  {
   "cell_type": "code",
   "execution_count": 48,
   "id": "a21d5b98",
   "metadata": {},
   "outputs": [
    {
     "ename": "AttributeError",
     "evalue": "'Person' object has no attribute 'age'",
     "output_type": "error",
     "traceback": [
      "\u001b[1;31m---------------------------------------------------------------------------\u001b[0m",
      "\u001b[1;31mAttributeError\u001b[0m                            Traceback (most recent call last)",
      "Cell \u001b[1;32mIn[48], line 3\u001b[0m\n\u001b[0;32m      1\u001b[0m \u001b[38;5;28;01mdel\u001b[39;00m p1\u001b[38;5;241m.\u001b[39mage\n\u001b[1;32m----> 3\u001b[0m \u001b[38;5;28mprint\u001b[39m(\u001b[43mp1\u001b[49m\u001b[38;5;241;43m.\u001b[39;49m\u001b[43mage\u001b[49m)\n",
      "\u001b[1;31mAttributeError\u001b[0m: 'Person' object has no attribute 'age'"
     ]
    }
   ],
   "source": [
    "#Delete the age property from the p1 object:\n",
    "\n",
    "del p1.age\n",
    "\n",
    "print(p1.age)"
   ]
  },
  {
   "cell_type": "code",
   "execution_count": 49,
   "id": "971de4ae",
   "metadata": {},
   "outputs": [
    {
     "ename": "NameError",
     "evalue": "name 'p1' is not defined",
     "output_type": "error",
     "traceback": [
      "\u001b[1;31m---------------------------------------------------------------------------\u001b[0m",
      "\u001b[1;31mNameError\u001b[0m                                 Traceback (most recent call last)",
      "Cell \u001b[1;32mIn[49], line 13\u001b[0m\n\u001b[0;32m      9\u001b[0m p1 \u001b[38;5;241m=\u001b[39m Person(\u001b[38;5;124m\"\u001b[39m\u001b[38;5;124mJohn\u001b[39m\u001b[38;5;124m\"\u001b[39m, \u001b[38;5;241m36\u001b[39m)\n\u001b[0;32m     11\u001b[0m \u001b[38;5;28;01mdel\u001b[39;00m p1\n\u001b[1;32m---> 13\u001b[0m \u001b[38;5;28mprint\u001b[39m(\u001b[43mp1\u001b[49m)\n",
      "\u001b[1;31mNameError\u001b[0m: name 'p1' is not defined"
     ]
    }
   ],
   "source": [
    "#Delete the p1 object:\n",
    "\n",
    "del p1\n",
    "\n",
    "class Person:\n",
    "  def __init__(self, name, age):\n",
    "    self.name = name\n",
    "    self.age = age\n",
    "\n",
    "  def myfunc(self):\n",
    "    print(\"Hello my name is \" + self.name)\n",
    "\n",
    "p1 = Person(\"John\", 36)\n",
    "\n",
    "del p1\n",
    "\n",
    "print(p1)"
   ]
  },
  {
   "cell_type": "code",
   "execution_count": 67,
   "id": "3a2f5c7b",
   "metadata": {},
   "outputs": [
    {
     "ename": "SyntaxError",
     "evalue": "incomplete input (1342782356.py, line 4)",
     "output_type": "error",
     "traceback": [
      "\u001b[1;36m  Cell \u001b[1;32mIn[67], line 4\u001b[1;36m\u001b[0m\n\u001b[1;33m    class Student(Person):\u001b[0m\n\u001b[1;37m                          ^\u001b[0m\n\u001b[1;31mSyntaxError\u001b[0m\u001b[1;31m:\u001b[0m incomplete input\n"
     ]
    }
   ],
   "source": [
    "#Exercise: What is the correct syntax to create a class named Student that will inherit properties \n",
    "and methods from a class named Person?\n",
    "\n",
    "class Student(Person):"
   ]
  },
  {
   "cell_type": "code",
   "execution_count": 127,
   "id": "a3910269",
   "metadata": {},
   "outputs": [
    {
     "name": "stdout",
     "output_type": "stream",
     "text": [
      "Mike\n"
     ]
    }
   ],
   "source": [
    "# Exercise:\n",
    "# We have used the Student class to create an object named x.\n",
    "\n",
    "# What is the correct syntax to execute the printname method of the object x?\n",
    "\n",
    "class Person:\n",
    "  def __init__(self, fname):\n",
    "    self.firstname = fname\n",
    "\n",
    "  def printname(self):\n",
    "    print(self.firstname)\n",
    "\n",
    "class Student(Person):\n",
    "  pass\n",
    "\n",
    "x = Student(\"Mike\") \n",
    "\n",
    "x.printname()\n",
    "\n"
   ]
  },
  {
   "cell_type": "code",
   "execution_count": null,
   "id": "d4ea7149",
   "metadata": {},
   "outputs": [],
   "source": [
    "\n",
    "        "
   ]
  }
 ],
 "metadata": {
  "kernelspec": {
   "display_name": "Python 3 (ipykernel)",
   "language": "python",
   "name": "python3"
  },
  "language_info": {
   "codemirror_mode": {
    "name": "ipython",
    "version": 3
   },
   "file_extension": ".py",
   "mimetype": "text/x-python",
   "name": "python",
   "nbconvert_exporter": "python",
   "pygments_lexer": "ipython3",
   "version": "3.10.9"
  }
 },
 "nbformat": 4,
 "nbformat_minor": 5
}
