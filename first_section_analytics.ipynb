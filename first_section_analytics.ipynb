{
 "cells": [
  {
   "cell_type": "markdown",
   "id": "4b21ee6e",
   "metadata": {},
   "source": [
    "We need pandas and matplotlib"
   ]
  },
  {
   "cell_type": "code",
   "execution_count": null,
   "id": "78628b80",
   "metadata": {},
   "outputs": [],
   "source": [
    "import pandas as pd \n",
    "from matplotlib import pyplot as plt \n",
    "from sklearn.linear_model import LinearRegression"
   ]
  },
  {
   "cell_type": "markdown",
   "id": "2956a829",
   "metadata": {},
   "source": [
    "Read a data from our excel sheet "
   ]
  },
  {
   "cell_type": "code",
   "execution_count": null,
   "id": "f616e192",
   "metadata": {},
   "outputs": [],
   "source": [
    "htm_data = pd.read_excel(\"htm_clean_dataset.xlsx\", sheet_name = \"cleaned_data\")\n",
    "htm_data\n"
   ]
  },
  {
   "cell_type": "markdown",
   "id": "f84b922f",
   "metadata": {},
   "source": [
    "Modifying mould CFU data to round figures: \n"
   ]
  },
  {
   "cell_type": "code",
   "execution_count": null,
   "id": "b48a2806",
   "metadata": {},
   "outputs": [],
   "source": [
    "htm_data[\"Indoor_Mould_CFU_m3\"] = htm_data[\"Indoor_Mould_CFU_m3\"].round(decimals = 1)\n",
    "htm_data.to_excel (\"modified_data.xlsx\", index = False)"
   ]
  },
  {
   "cell_type": "code",
   "execution_count": null,
   "id": "1f088b60",
   "metadata": {
    "scrolled": true
   },
   "outputs": [],
   "source": [
    "htm_data_modified = pd.read_excel(\"modified_data.xlsx\")\n",
    "modified_data = htm_data_modified[:50]\n",
    "modified_data\n"
   ]
  },
  {
   "cell_type": "markdown",
   "id": "089363e1",
   "metadata": {},
   "source": [
    "## Assignment: \n",
    "### use describe function on the dataset: eg count, avg. study pyplot"
   ]
  },
  {
   "cell_type": "code",
   "execution_count": null,
   "id": "774639e1",
   "metadata": {},
   "outputs": [],
   "source": [
    "df = pd.read_excel(\"final_modified_data.xlsx\") \n",
    "df.shape"
   ]
  },
  {
   "cell_type": "code",
   "execution_count": null,
   "id": "92c25162",
   "metadata": {},
   "outputs": [],
   "source": [
    "htm_data_modified = pd.read_excel(\"final_modified_data.xlsx\")\n",
    "modified_data = htm_data_modified[:50]\n",
    "modified_data\n",
    "\n",
    "# df = pd.read_excel(\"modified_data.xlsx\") \n",
    "# df.shape"
   ]
  },
  {
   "cell_type": "code",
   "execution_count": null,
   "id": "88596040",
   "metadata": {},
   "outputs": [],
   "source": [
    "df.describe()"
   ]
  },
  {
   "cell_type": "code",
   "execution_count": null,
   "id": "6918e720",
   "metadata": {},
   "outputs": [],
   "source": [
    "df1 = pd.read_excel(\"final_modified_data.xlsx\")\n",
    "df1[:50]"
   ]
  },
  {
   "cell_type": "code",
   "execution_count": null,
   "id": "b51a5e34",
   "metadata": {},
   "outputs": [],
   "source": [
    "df1 = pd.read_excel(\"final_modified_data.xlsx\")\n",
    "df1[:80]"
   ]
  },
  {
   "cell_type": "code",
   "execution_count": null,
   "id": "c3e109cd",
   "metadata": {},
   "outputs": [],
   "source": [
    "df1 = pd.read_excel(\"final_modified_data.xlsx\")\n",
    "df1[:50]"
   ]
  },
  {
   "cell_type": "code",
   "execution_count": null,
   "id": "78c7c868",
   "metadata": {},
   "outputs": [],
   "source": [
    "project_50 = df1[:50] \n",
    "project_50"
   ]
  },
  {
   "cell_type": "code",
   "execution_count": null,
   "id": "1aaeef1a",
   "metadata": {},
   "outputs": [],
   "source": [
    "# project_50 = df1[:50] \n",
    "# project_50 \n",
    "\n",
    "# df = pd.read_excel(\"project_50.xlsx\") \n",
    "\n",
    "project_50.shape"
   ]
  },
  {
   "cell_type": "code",
   "execution_count": null,
   "id": "b7fc0c85",
   "metadata": {},
   "outputs": [],
   "source": [
    "# df.describe() \n",
    "\n",
    "project_50.describe()"
   ]
  },
  {
   "cell_type": "code",
   "execution_count": null,
   "id": "5a9f9e09",
   "metadata": {},
   "outputs": [],
   "source": []
  },
  {
   "cell_type": "markdown",
   "id": "eca56c4a",
   "metadata": {},
   "source": [
    "### ANALYSIS "
   ]
  },
  {
   "cell_type": "code",
   "execution_count": null,
   "id": "5591db94",
   "metadata": {},
   "outputs": [],
   "source": [
    "# Drawing of graphs. Start with the basic graphs, x and y axes. \n",
    "# Create another variable to define the relationship between rel humidity n temp. "
   ]
  },
  {
   "cell_type": "code",
   "execution_count": null,
   "id": "4160081a",
   "metadata": {},
   "outputs": [],
   "source": [
    "project_50"
   ]
  },
  {
   "cell_type": "code",
   "execution_count": null,
   "id": "531f6703",
   "metadata": {},
   "outputs": [],
   "source": [
    "humidity_temp = project_50[[\"Relative_Humidity_percentage\", \"Temperature_degree_celcius\"]]\n",
    "humidity_temp"
   ]
  },
  {
   "cell_type": "code",
   "execution_count": null,
   "id": "8b7fd868",
   "metadata": {},
   "outputs": [],
   "source": [
    "# Draw a scatter plot graph \n",
    "\n",
    "# y = relative humidity, x = temperature "
   ]
  },
  {
   "cell_type": "code",
   "execution_count": null,
   "id": "6a7b230b",
   "metadata": {},
   "outputs": [],
   "source": [
    "x = pd.DataFrame(humidity_temp, columns = [\"Temperature_degree_celcius\"]) \n",
    "y = pd.DataFrame(humidity_temp, columns = [\"Relative_Humidity_percentage\"]) \n"
   ]
  },
  {
   "cell_type": "code",
   "execution_count": null,
   "id": "25fc3e2a",
   "metadata": {},
   "outputs": [],
   "source": [
    "# draw graph \n",
    "# matplotib \n",
    "# Temperature vs Humidity\n",
    "\n",
    "plt.figure(figsize = (10,6))\n",
    "plt.scatter(x,y)\n",
    "plt.xlabel(\"Temp_Celsius\")\n",
    "plt.ylabel(\"Rel_Hum_Percentage\")\n",
    "plt.xlim(20,30) \n",
    "plt.ylim(31,55)\n",
    "plt.title(\"Temperature vs Humidity\")\n",
    "plt.show()"
   ]
  },
  {
   "cell_type": "markdown",
   "id": "ca7409eb",
   "metadata": {},
   "source": [
    "### Assignment: \n",
    "Temperature && Mould\n",
    "Relative Humidity && Mould \n"
   ]
  },
  {
   "cell_type": "code",
   "execution_count": null,
   "id": "41e212b8",
   "metadata": {},
   "outputs": [],
   "source": [
    "# Declaring a variable for mould and temperature columns.  \n",
    "\n",
    "mould_temp = project_50[[\"Indoor_CFU_m3\", \"Temperature_degree_celcius\"]]\n",
    "mould_temp"
   ]
  },
  {
   "cell_type": "code",
   "execution_count": null,
   "id": "61533b73",
   "metadata": {},
   "outputs": [],
   "source": [
    "# Decalaring variables for x and y axes\n",
    "\n",
    "x = pd.DataFrame(mould_temp, columns = [\"Temperature_degree_celcius\"]) \n",
    "y = pd.DataFrame(mould_temp, columns = [\"Indoor_CFU_m3\"])"
   ]
  },
  {
   "cell_type": "code",
   "execution_count": null,
   "id": "7c08594a",
   "metadata": {},
   "outputs": [],
   "source": [
    "# draw graph \n",
    "# matplotib \n",
    "# Temperature vs mould\n",
    "\n",
    "plt.figure(figsize = (10,6))\n",
    "plt.scatter(x,y)\n",
    "plt.xlabel(\"Temp_Celsius\")\n",
    "plt.ylabel(\"Indoor_Mould_CFU_m3\")\n",
    "plt.xlim(15,30) \n",
    "plt.ylim(50,4750)\n",
    "plt.title(\"Temperature vs mould\")\n",
    "plt.show()"
   ]
  },
  {
   "cell_type": "code",
   "execution_count": null,
   "id": "292b30bb",
   "metadata": {},
   "outputs": [],
   "source": [
    "# Declaring a variable for humidity and mould columns.  \n",
    "\n",
    "mould_hum = project_50[[\"Indoor_CFU_m3\", \"Relative_Humidity_percentage\"]]\n",
    "mould_hum"
   ]
  },
  {
   "cell_type": "code",
   "execution_count": null,
   "id": "d3d43dea",
   "metadata": {},
   "outputs": [],
   "source": [
    "# Decalaring variables for x and y axes\n",
    "\n",
    "x = pd.DataFrame(mould_hum, columns = [\"Relative_Humidity_percentage\"]) \n",
    "y = pd.DataFrame(mould_hum, columns = [\"Indoor_CFU_m3\"])\n",
    "\n"
   ]
  },
  {
   "cell_type": "code",
   "execution_count": null,
   "id": "a6499ce2",
   "metadata": {},
   "outputs": [],
   "source": [
    "# draw graph \n",
    "# matplotib \n",
    "# Humidity vs mould\n",
    "\n",
    "plt.figure(figsize = (10,6))\n",
    "plt.scatter(x,y)\n",
    "plt.xlabel(\"Relative_Humidity_percentage\")\n",
    "plt.ylabel(\"Indoor_Mould_CFU_m3\")\n",
    "plt.xlim(31,55) \n",
    "plt.ylim(60,4750)\n",
    "plt.title(\"Humidity vs mould\")\n",
    "plt.show()"
   ]
  },
  {
   "cell_type": "markdown",
   "id": "4cd9072e",
   "metadata": {},
   "source": [
    "## Independent variables: Relative humidity and Temperature \n",
    "## Dependent variable is indoor mould # it depends on Rel. humidity and temperature to form. "
   ]
  },
  {
   "cell_type": "markdown",
   "id": "8f9ecd91",
   "metadata": {},
   "source": [
    "## y = β0 + β1*x + ε\u000b\n",
    "\u000b\n",
    "where:\u000b\n",
    "\u000b\n",
    "    y is the dependent variable (the variable we want to predict or explain)\u000b\n",
    "    x is the independent variable (the variable that influences or explains the variation in y)\u000b\n",
    "    β0 is the intercept (the value of y when x is equal to zero)\u000b\n",
    "    β1 is the coefficient (the change in y corresponding to a one-unit change in x)\u000b\n",
    "    ε is the error term (the unexplained variation or random noise in the relationship)"
   ]
  },
  {
   "cell_type": "code",
   "execution_count": null,
   "id": "5b3aa8a9",
   "metadata": {},
   "outputs": [],
   "source": [
    "# General formular for linear regression: \n",
    "# y = dependent variable \n",
    "# x = independent variable \n",
    "# zn = intercept: the value of the dependent variable when the independent variable is zero. \n",
    "# m = gradient: the change in y corresponding to one unit change in x. \n",
    "# e = error term: the random noise in the relationship. "
   ]
  },
  {
   "cell_type": "code",
   "execution_count": null,
   "id": "5200a08c",
   "metadata": {},
   "outputs": [],
   "source": [
    "xtr = pd.DataFrame(humidity_temp, columns = [\"Temperature_degree_celcius\"]) \n",
    "ytr = pd.DataFrame(humidity_temp, columns = [\"Relative_Humidity_percentage\"]) \n",
    "\n"
   ]
  },
  {
   "cell_type": "markdown",
   "id": "b46643af",
   "metadata": {},
   "source": [
    "## When you call regression.fit(x, y) on a regression model object (regression), it takes the independent variable(s) x and the dependent variable y as input and fits the regression model to the data. This fitting process involves estimating the parameters (coefficients) of the regression model based on the provided data."
   ]
  },
  {
   "cell_type": "code",
   "execution_count": null,
   "id": "f3e45d66",
   "metadata": {},
   "outputs": [],
   "source": [
    "# Create a variable called regression \n",
    "regression = LinearRegression()\n",
    "regression.fit(xtr,ytr)"
   ]
  },
  {
   "cell_type": "code",
   "execution_count": null,
   "id": "99a26c66",
   "metadata": {},
   "outputs": [],
   "source": [
    "# Regression Coefficient\n",
    "regression.coef_"
   ]
  },
  {
   "cell_type": "code",
   "execution_count": null,
   "id": "141eb400",
   "metadata": {},
   "outputs": [],
   "source": [
    "# Regresion Intercept \n",
    "regression.intercept_"
   ]
  },
  {
   "cell_type": "code",
   "execution_count": null,
   "id": "422e145a",
   "metadata": {},
   "outputs": [],
   "source": [
    "# Temperature vs Humidity \n",
    "\n",
    "plt.figure(figsize = (10,6))\n",
    "plt.scatter(xtr,ytr)\n",
    "plt.plot(xtr,regression.predict(xtr), color = \"blue\", linewidth = 2)\n",
    "plt.xlabel(\"Temp_Celsius\")\n",
    "plt.ylabel(\"Rel_Hum_Percentage\")\n",
    "# plt.xlim(20,30) \n",
    "# plt.ylim(31,55)\n",
    "plt.title(\"Temperature vs Humidity\")\n",
    "plt.show()"
   ]
  },
  {
   "cell_type": "markdown",
   "id": "2fb53fdb",
   "metadata": {},
   "source": [
    "# Assignment. Try same as above but  Temperature vs Mould"
   ]
  },
  {
   "cell_type": "markdown",
   "id": "bdbcd76f",
   "metadata": {},
   "source": [
    "## Temperature vs Mould"
   ]
  },
  {
   "cell_type": "code",
   "execution_count": null,
   "id": "e87bc2da",
   "metadata": {},
   "outputs": [],
   "source": [
    "xtm = pd.DataFrame(mould_temp, columns = [\"Temperature_degree_celcius\"]) \n",
    "ytm = pd.DataFrame(mould_temp, columns = [\"Indoor_CFU_m3\"])"
   ]
  },
  {
   "cell_type": "code",
   "execution_count": null,
   "id": "7b3797f9",
   "metadata": {},
   "outputs": [],
   "source": [
    "# Create a variable called regression \n",
    "regression = LinearRegression()\n",
    "regression.fit(xtm,ytm)"
   ]
  },
  {
   "cell_type": "code",
   "execution_count": null,
   "id": "5b2ad801",
   "metadata": {},
   "outputs": [],
   "source": [
    "# Regression Coefficient\n",
    "regression.coef_"
   ]
  },
  {
   "cell_type": "code",
   "execution_count": null,
   "id": "483794c0",
   "metadata": {},
   "outputs": [],
   "source": [
    "# Regresion Intercept \n",
    "regression.intercept_"
   ]
  },
  {
   "cell_type": "code",
   "execution_count": null,
   "id": "334286d7",
   "metadata": {},
   "outputs": [],
   "source": [
    "# Temperature vs Mould\n",
    "\n",
    "plt.figure(figsize = (10,6))\n",
    "plt.scatter(xtm,ytm)\n",
    "plt.plot(xtm,regression.predict(xtm), color = \"red\", linewidth = 2)\n",
    "plt.xlabel(\"Temp_Celsius\")\n",
    "plt.ylabel(\"Indoor_Mould_CFU_m3\")\n",
    "# plt.xlim(15,30) \n",
    "# plt.ylim(50,4750)\n",
    "plt.title(\"Temperature vs mould\")\n",
    "plt.show()\n",
    "\n"
   ]
  },
  {
   "cell_type": "markdown",
   "id": "ace8c36a",
   "metadata": {},
   "source": [
    "## Humidity vs Mould"
   ]
  },
  {
   "cell_type": "code",
   "execution_count": null,
   "id": "ee3d5c1a",
   "metadata": {},
   "outputs": [],
   "source": [
    "# Humidity vs Mould\n",
    "\n",
    "xhm = pd.DataFrame(mould_hum, columns = [\"Relative_Humidity_percentage\"]) \n",
    "yhm = pd.DataFrame(mould_hum, columns = [\"Indoor_CFU_m3\"])"
   ]
  },
  {
   "cell_type": "code",
   "execution_count": null,
   "id": "a68c95ce",
   "metadata": {},
   "outputs": [],
   "source": [
    "# Create a variable called regression \n",
    "regression = LinearRegression()\n",
    "regression.fit(xhm,yhm)"
   ]
  },
  {
   "cell_type": "code",
   "execution_count": null,
   "id": "3b75da81",
   "metadata": {},
   "outputs": [],
   "source": []
  }
 ],
 "metadata": {
  "kernelspec": {
   "display_name": "Python 3 (ipykernel)",
   "language": "python",
   "name": "python3"
  },
  "language_info": {
   "codemirror_mode": {
    "name": "ipython",
    "version": 3
   },
   "file_extension": ".py",
   "mimetype": "text/x-python",
   "name": "python",
   "nbconvert_exporter": "python",
   "pygments_lexer": "ipython3",
   "version": "3.10.9"
  }
 },
 "nbformat": 4,
 "nbformat_minor": 5
}
